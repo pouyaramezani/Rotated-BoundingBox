{
 "cells": [
  {
   "cell_type": "code",
   "execution_count": 3,
   "metadata": {},
   "outputs": [],
   "source": [
    "import numpy as np\n",
    "import cv2\n",
    "import os\n",
    "import matplotlib.pylab as plt\n",
    "from glob import glob\n",
    "import numpy.ma as ma\n",
    "\n",
    "\n",
    "this_path = os.path.dirname('/home-local/poram.extra.nobkp/VOT/DAVIS/Annotations/480p/')\n",
    "list_subfolders_with_paths = [f.path for f in os.scandir(this_path) if f.is_dir()]"
   ]
  },
  {
   "cell_type": "code",
   "execution_count": 5,
   "metadata": {},
   "outputs": [
    {
     "name": "stdout",
     "output_type": "stream",
     "text": [
      "/gel/usr/poram/Desktop/Rotated-BoundingBox/s/1\n",
      "[  0  15  38  53  75 113]\n",
      "/gel/usr/poram/Desktop/Rotated-BoundingBox/s/2\n",
      "[  0  38  75 113]\n"
     ]
    }
   ],
   "source": [
    "for pathh in list_subfolders_with_paths:\n",
    "    INPUT_PATH = pathh\n",
    "    filenames = glob(os.path.join(INPUT_PATH, \"*.png\"))\n",
    "    \n",
    "    images=[]\n",
    "    for f in filenames:\n",
    "        img = cv2.imread(f)\n",
    "        img = cv2.cvtColor(img, cv2.COLOR_BGR2GRAY)\n",
    "        images.append(img)\n",
    "\n",
    "    unique_items=np.unique(images[0])\n",
    "    print(INPUT_PATH)\n",
    "    print(unique_items)\n",
    "    \n",
    "    d=[]\n",
    "    for m in unique_items:\n",
    "        if m != 0:\n",
    "            s=[]\n",
    "            for im in images:\n",
    "                masked_im=ma.masked_equal(im, m)\n",
    "                if masked_im.mask.shape==():\n",
    "                    masked_im=np.ma.masked_all_like(im)\n",
    "                    masked_im.mask=~masked_im.mask\n",
    "                s.append(masked_im.mask)\n",
    "            #s.pop()\n",
    "            d.append(s) #len[d]=number of unique items in the first image.each element of \n",
    "                        #d contains masks for all images for an item.    \n",
    "\n",
    "    for j in range(len(d)):\n",
    "        os.mkdir(INPUT_PATH+'/masks-'+str(j)+'/')\n",
    "        for i,ss in enumerate(d[j]):\n",
    "            plt.imsave(os.path.join(INPUT_PATH+'/masks-'+str(j)+'/'+ str(i)+'.png'),1*ss)\n",
    "            \n",
    "    for k in range(len(d)):\n",
    "        for ii,sss in enumerate(d[k]):\n",
    "            imgc = cv2.imread(os.path.join(INPUT_PATH+'/masks-'+str(k)+'/'+ str(ii)+'.png'),0)\n",
    "            ret,thresh = cv2.threshold(imgc,127,255,0)\n",
    "            contours,hierarchy = cv2.findContours(thresh, 1, 2)\n",
    "            if len(contours)>0:\n",
    "                cnt = contours[-1]#contours[0]\n",
    "                   \n",
    "                rect = cv2.minAreaRect(cnt)\n",
    "                box = cv2.boxPoints(rect)\n",
    "                box = np.int0(box)\n",
    "            else:\n",
    "                box=np.asarray([[0,0],[0,0],[0,0],[0,0]])\n",
    "            \n",
    "            plt.imsave(os.path.join(INPUT_PATH+'/masks-'+str(k)+'/m-'+ str(ii)+'.png'),cv2.drawContours(imgc,[box],0,(0,0,255),2))\n",
    "            np.savetxt(os.path.join(INPUT_PATH+'/masks-'+str(k)+'/'+ str(ii)+'.txt'),box,fmt='%d')"
   ]
  },
  {
   "cell_type": "code",
   "execution_count": null,
   "metadata": {},
   "outputs": [],
   "source": []
  }
 ],
 "metadata": {
  "kernelspec": {
   "display_name": "Python 3",
   "language": "python",
   "name": "python3"
  },
  "language_info": {
   "codemirror_mode": {
    "name": "ipython",
    "version": 3
   },
   "file_extension": ".py",
   "mimetype": "text/x-python",
   "name": "python",
   "nbconvert_exporter": "python",
   "pygments_lexer": "ipython3",
   "version": "3.6.8"
  }
 },
 "nbformat": 4,
 "nbformat_minor": 2
}
