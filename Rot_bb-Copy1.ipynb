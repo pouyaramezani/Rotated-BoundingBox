{
 "cells": [
  {
   "cell_type": "code",
   "execution_count": 3,
   "metadata": {},
   "outputs": [],
   "source": [
    "import numpy as np\n",
    "import cv2\n",
    "import os\n",
    "import matplotlib.pylab as plt\n",
    "from glob import glob\n",
    "import numpy.ma as ma\n",
    "\n",
    "\n",
    "this_path = os.path.dirname('/home-local/poram.extra.nobkp/VOT/DAVIS/Annotations/480p/')\n",
    "list_subfolders_with_paths = [f.path for f in os.scandir(this_path) if f.is_dir()]"
   ]
  },
  {
   "cell_type": "code",
   "execution_count": 2,
   "metadata": {},
   "outputs": [
    {
     "name": "stdout",
     "output_type": "stream",
     "text": [
      "/home-local/poram.extra.nobkp/VOT/DAVIS/Annotations/480p/bear\n",
      "[ 0 38]\n"
     ]
    },
    {
     "ename": "FileExistsError",
     "evalue": "[Errno 17] File exists: '/home-local/poram.extra.nobkp/VOT/DAVIS/Annotations/480p/bear/masks-0/'",
     "output_type": "error",
     "traceback": [
      "\u001b[0;31m---------------------------------------------------------------------------\u001b[0m",
      "\u001b[0;31mFileExistsError\u001b[0m                           Traceback (most recent call last)",
      "\u001b[0;32m<ipython-input-2-f2534f4ee518>\u001b[0m in \u001b[0;36m<module>\u001b[0;34m\u001b[0m\n\u001b[1;32m     28\u001b[0m \u001b[0;34m\u001b[0m\u001b[0m\n\u001b[1;32m     29\u001b[0m     \u001b[0;32mfor\u001b[0m \u001b[0mj\u001b[0m \u001b[0;32min\u001b[0m \u001b[0mrange\u001b[0m\u001b[0;34m(\u001b[0m\u001b[0mlen\u001b[0m\u001b[0;34m(\u001b[0m\u001b[0md\u001b[0m\u001b[0;34m)\u001b[0m\u001b[0;34m)\u001b[0m\u001b[0;34m:\u001b[0m\u001b[0;34m\u001b[0m\u001b[0;34m\u001b[0m\u001b[0m\n\u001b[0;32m---> 30\u001b[0;31m         \u001b[0mos\u001b[0m\u001b[0;34m.\u001b[0m\u001b[0mmkdir\u001b[0m\u001b[0;34m(\u001b[0m\u001b[0mINPUT_PATH\u001b[0m\u001b[0;34m+\u001b[0m\u001b[0;34m'/masks-'\u001b[0m\u001b[0;34m+\u001b[0m\u001b[0mstr\u001b[0m\u001b[0;34m(\u001b[0m\u001b[0mj\u001b[0m\u001b[0;34m)\u001b[0m\u001b[0;34m+\u001b[0m\u001b[0;34m'/'\u001b[0m\u001b[0;34m)\u001b[0m\u001b[0;34m\u001b[0m\u001b[0;34m\u001b[0m\u001b[0m\n\u001b[0m\u001b[1;32m     31\u001b[0m         \u001b[0;32mfor\u001b[0m \u001b[0mi\u001b[0m\u001b[0;34m,\u001b[0m\u001b[0mss\u001b[0m \u001b[0;32min\u001b[0m \u001b[0menumerate\u001b[0m\u001b[0;34m(\u001b[0m\u001b[0md\u001b[0m\u001b[0;34m[\u001b[0m\u001b[0mj\u001b[0m\u001b[0;34m]\u001b[0m\u001b[0;34m)\u001b[0m\u001b[0;34m:\u001b[0m\u001b[0;34m\u001b[0m\u001b[0;34m\u001b[0m\u001b[0m\n\u001b[1;32m     32\u001b[0m             \u001b[0mplt\u001b[0m\u001b[0;34m.\u001b[0m\u001b[0mimsave\u001b[0m\u001b[0;34m(\u001b[0m\u001b[0mos\u001b[0m\u001b[0;34m.\u001b[0m\u001b[0mpath\u001b[0m\u001b[0;34m.\u001b[0m\u001b[0mjoin\u001b[0m\u001b[0;34m(\u001b[0m\u001b[0mINPUT_PATH\u001b[0m\u001b[0;34m+\u001b[0m\u001b[0;34m'/masks-'\u001b[0m\u001b[0;34m+\u001b[0m\u001b[0mstr\u001b[0m\u001b[0;34m(\u001b[0m\u001b[0mj\u001b[0m\u001b[0;34m)\u001b[0m\u001b[0;34m+\u001b[0m\u001b[0;34m'/'\u001b[0m\u001b[0;34m+\u001b[0m \u001b[0mstr\u001b[0m\u001b[0;34m(\u001b[0m\u001b[0mi\u001b[0m\u001b[0;34m)\u001b[0m\u001b[0;34m+\u001b[0m\u001b[0;34m'.png'\u001b[0m\u001b[0;34m)\u001b[0m\u001b[0;34m,\u001b[0m\u001b[0;36m1\u001b[0m\u001b[0;34m*\u001b[0m\u001b[0mss\u001b[0m\u001b[0;34m)\u001b[0m\u001b[0;34m\u001b[0m\u001b[0;34m\u001b[0m\u001b[0m\n",
      "\u001b[0;31mFileExistsError\u001b[0m: [Errno 17] File exists: '/home-local/poram.extra.nobkp/VOT/DAVIS/Annotations/480p/bear/masks-0/'"
     ]
    }
   ],
   "source": [
    "for pathh in list_subfolders_with_paths:\n",
    "    INPUT_PATH = pathh\n",
    "    filenames = glob(os.path.join(INPUT_PATH, \"*.png\"))\n",
    "    \n",
    "    images=[]\n",
    "    for f in filenames:\n",
    "        img = cv2.imread(f)\n",
    "        img = cv2.cvtColor(img, cv2.COLOR_BGR2GRAY)\n",
    "        images.append(img)\n",
    "\n",
    "    unique_items=np.unique(images[0])\n",
    "    print(INPUT_PATH)\n",
    "    print(unique_items)\n",
    "    \n",
    "    d=[]\n",
    "    for m in unique_items:\n",
    "        if m != 0:\n",
    "            s=[]\n",
    "            for im in images:\n",
    "                masked_im=ma.masked_equal(im, m)\n",
    "                if masked_im.mask.shape==():\n",
    "                    masked_im=np.ma.masked_all_like(im)\n",
    "                    masked_im.mask=~masked_im.mask\n",
    "                s.append(masked_im.mask)\n",
    "            #s.pop()\n",
    "            d.append(s) #len[d]=number of unique items in the first image.each element of \n",
    "                        #d contains masks for all images for an item.    \n",
    "\n",
    "    for j in range(len(d)):\n",
    "        os.mkdir(INPUT_PATH+'/masks-'+str(j)+'/')\n",
    "        for i,ss in enumerate(d[j]):\n",
    "            plt.imsave(os.path.join(INPUT_PATH+'/masks-'+str(j)+'/'+ str(i)+'.png'),1*ss)\n",
    "            \n",
    "    for k in range(len(d)):\n",
    "        for ii,sss in enumerate(d[k]):\n",
    "            imgc = cv2.imread(os.path.join(INPUT_PATH+'/masks-'+str(k)+'/'+ str(ii)+'.png'),0)\n",
    "            ret,thresh = cv2.threshold(imgc,127,255,0)\n",
    "            contours,hierarchy = cv2.findContours(thresh, 1, 2)\n",
    "            if len(contours)>0:\n",
    "                cnt = contours[-1]#contours[0]\n",
    "        \n",
    "            if len(contours)>0:\n",
    "                rect = cv2.minAreaRect(cnt)\n",
    "                box = cv2.boxPoints(rect)\n",
    "                box = np.int0(box)\n",
    "            else:\n",
    "                box=np.asarray([[0,0],[0,0],[0,0],[0,0]])\n",
    "            \n",
    "            plt.imsave(os.path.join(INPUT_PATH+'/masks-'+str(k)+'/m-'+ str(ii)+'.png'),cv2.drawContours(imgc,[box],0,(0,0,255),2))\n",
    "            np.savetxt(os.path.join(INPUT_PATH+'/masks-'+str(k)+'/'+ str(ii)+'.txt'),box,fmt='%d')"
   ]
  },
  {
   "cell_type": "code",
   "execution_count": null,
   "metadata": {},
   "outputs": [],
   "source": []
  }
 ],
 "metadata": {
  "kernelspec": {
   "display_name": "Python 3",
   "language": "python",
   "name": "python3"
  },
  "language_info": {
   "codemirror_mode": {
    "name": "ipython",
    "version": 3
   },
   "file_extension": ".py",
   "mimetype": "text/x-python",
   "name": "python",
   "nbconvert_exporter": "python",
   "pygments_lexer": "ipython3",
   "version": "3.6.8"
  }
 },
 "nbformat": 4,
 "nbformat_minor": 2
}
